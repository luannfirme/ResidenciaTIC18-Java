{
 "cells": [
  {
   "cell_type": "markdown",
   "metadata": {},
   "source": [
    "<b>1. O que é uma exceção em Java e qual é o propósito de usá-las em programas?</b>"
   ]
  },
  {
   "cell_type": "markdown",
   "metadata": {},
   "source": [
    "    Exceções em Java são condições anormais que interrompem a execução normal de um programa. Elas são usadas para lidar com erros ou situações imprevistas, permitindo tratamento estruturado e controlado desses problemas durante a execução do programa. Essas situações podem incluir erros de entrada, operações de E/S, erros de tempo de execução ou erros lógicos. O uso de exceções permite identificar, tratar e lidar com esses erros de forma organizada, separando o código de tratamento de erros do código principal para melhorar a legibilidade e a manutenção do código. É uma maneira de garantir que um programa possa se recuperar ou interromper sua execução de forma controlada diante de situações excepcionais."
   ]
  },
  {
   "cell_type": "markdown",
   "metadata": {},
   "source": [
    "<b>2. Pesquise sobre a diferença entre exceções verificadas e não verificadas em Java. Dê exemplos de cada uma.</b>"
   ]
  },
  {
   "cell_type": "markdown",
   "metadata": {},
   "source": [
    "    Exceções verificadas são aquelas que o compilador exige que o programador trate explicitamente, seja com um bloco try-catch ou usando a palavra-chave throws; essas exceções são derivadas da classe Exception. Exemplos comuns são IOException, SQLException, ClassNotFoundException, entre outras.\n",
    "    Ex:\n",
    "\n",
    "~~~java\n",
    "import java.io.File;\n",
    "import java.io.FileNotFoundException;\n",
    "import java.util.Scanner;\n",
    "\n",
    "public class CheckedExample {\n",
    "    public static void main(String[] args) {\n",
    "        try {\n",
    "            File file = new File(\"arquivo.txt\");\n",
    "            Scanner scanner = new Scanner(file);\n",
    "            while (scanner.hasNextLine()) {\n",
    "                System.out.println(scanner.nextLine());\n",
    "            }\n",
    "            scanner.close();\n",
    "        } catch (FileNotFoundException e) {\n",
    "            System.out.println(\"Arquivo não encontrado.\");\n",
    "        }\n",
    "    }\n",
    "}\n",
    "~~~\n",
    "\n",
    "    Exceções não verificadas são aquelas que o compilador não exige que sejam tratadas, o que significa que não é necessário usar um bloco try-catch ou a palavra-chave throws; essas excessoes normalmente derivam de RuntimeException ou suas subclasses. Exemplos comuns incluem NullPointerException, ArrayIndexOutOfBoundsException, ArithmeticException, entre outras.\n",
    "    Ex:\n",
    "\n",
    "~~~java\n",
    "public class UncheckedExample {\n",
    "    public static void main(String[] args) {\n",
    "        int[] numbers = {1, 2, 3};\n",
    "        System.out.println(numbers[3]);\n",
    "    }\n",
    "}\n",
    "~~~\n",
    "\n",
    "    Ou seja, exceções verificadas são obrigatórias para tratamento, enquanto exceções não verificadas não requerem tratamento explícito, embora ambas herdem de Throwable. Todos os exemplos acima estão incluídos no projeto java."
   ]
  },
  {
   "cell_type": "markdown",
   "metadata": {},
   "source": [
    "<b>3. Como você pode lidar com exceções em Java? Quais são as palavras-chave e as práticas comuns para tratamento de exceções? </b>"
   ]
  },
  {
   "cell_type": "markdown",
   "metadata": {},
   "source": [
    "    Em Java, o tratamento de exceções é feito principalmente usando as palavras-chave try, catch, finally e throw.\n",
    "\n",
    "<i>try e catch</i>: \n",
    "    Dessa forma utilizamos um bloco try para envolver o código que pode gerar uma exceção e Usamos um bloco catch para capturar e lidar com a exceção.\n",
    "    Ex:\n",
    "\n",
    "~~~java\n",
    "try {\n",
    "    // Código que pode lançar uma exceção\n",
    "} catch (ExcecaoRetornada e) {\n",
    "    // Tratamento da exceção\n",
    "}\n",
    "~~~\n",
    "\n",
    "<i>finally</i>:\n",
    "    O bloco finally é opcional e é usado para código que deve ser executado, independentemente de ocorrer ou não uma exceção dentro do bloco try.\n",
    "    Ex:\n",
    "\n",
    "~~~java\n",
    "try {\n",
    "    // Código que pode lançar uma exceção\n",
    "} catch (ExcecaoRetornada e) {\n",
    "    // Tratamento da exceção\n",
    "} finally {\n",
    "    // Código a ser executado sempre, com ou sem exceção\n",
    "}\n",
    "~~~\n",
    "\n",
    "<i>throw e throws</i>:\n",
    "    throw usamos para lançar uma exceção manualmente em um trecho de código. throws usamos em declarações de método para indicar que o método pode lançar uma exceção específica.\n",
    "    Ex:\n",
    "\n",
    "~~~java\n",
    "throw new ExcecaoRetornada(\"Mensagem de erro\"); // throw\n",
    "\n",
    "public void metodoExemplo() throws ExcecaoRetornada {\n",
    "    // Código do método\n",
    "}\n",
    "~~~\n",
    "\n",
    "    Como práticas comuns temos que:\n",
    "<ul>\n",
    "<li>Tratar exceções apropriadas para lidar com falhas esperadas.</li>\n",
    "<li>Usar exceções específicas para capturar erros específicos.</li>\n",
    "<li>Fornecer mensagens de erro significativas.</li>\n",
    "<li>Limpar recursos (fechar arquivos, conexões de banco de dados, etc.) no bloco finally.</li>\n",
    "</ul>"
   ]
  },
  {
   "cell_type": "markdown",
   "metadata": {},
   "source": [
    "<b>4. O que é o bloco \"try-catch\" em Java? Como ele funciona e por que é importante usá-lo ao lidar com exceções?</b>"
   ]
  },
  {
   "cell_type": "markdown",
   "metadata": {},
   "source": [
    "    O bloco try-catch é formado por dois seguimentos de código, onde no dentro do \"try\" definimos o bloco de código onde pode ser gerado um excecao durante sua execução, enquanto no \"catch\" definimos as açoes que serão tomadas caso uma excessão tenha sido lançada dentro do \"try\".\n",
    "    É muito importante utilizar esse bloco para tornar a aplicação mais amigável ao usuário, tratar as exceções e até mesmo para referter funções inicializadas dentro de um \"try\", principalmente em métodos que envolvem interações com banco de dados; além de evitar que o sistema seja interrompido inesperadamente devido a uma excessão."
   ]
  },
  {
   "cell_type": "markdown",
   "metadata": {},
   "source": [
    "<b>5. Quando é apropriado criar suas próprias exceções personalizadas em Java e como você pode fazer isso? Dê um exemplo de quando e por que você criaria uma exceção personalizada.</b>"
   ]
  },
  {
   "cell_type": "markdown",
   "metadata": {},
   "source": [
    "    É apropriado criar suas próprias exceções personalizadas quando você precisa fornecer mais informações sobre um erro ou quando você precisa controlar a forma como o erro é tratado.\n",
    "\n",
    "    Para criar uma exceção personalizada em Java, você precisa estender a classe Exception ou RuntimeException. A classe Exception é uma exceção verificada, o que significa que ela deve ser tratada ou lançada explicitamente. A classe RuntimeException é uma exceção não verificada, o que significa que ela não precisa ser tratada ou lançada explicitamente.\n",
    "\n",
    "    Suponha que o usuário esteja escrevendo um aplicativo que lê dados de um arquivo. Se o arquivo não for encontrado, o sistema pode lançar uma exceção personalizada para fornecer mais informações sobre o erro. Por exemplo, o sistema pode lançar uma exceção personalizada que inclua o nome do arquivo que não foi encontrado.\n",
    "    Ex:\n",
    "~~~java\n",
    "public class FileNotFoundException extends Exception {\n",
    "\n",
    "    public FileNotFoundException(String filename) {\n",
    "        super(\"Arquivo não encontrado: \" + filename);\n",
    "    }\n",
    "}\n",
    "~~~\n",
    "\n",
    "    Outro exemplo é quando precisamos controlar a forma como o erro é tratado. Por exemplo, o sistema pode criar uma exceção personalizada que interrompa a execução do aplicativo.\n",
    "    Ex:\n",
    "~~~java\n",
    "public class FatalException extends Exception {\n",
    "\n",
    "    public FatalException(String mensagemErro) {\n",
    "        super(mensagemErro);\n",
    "        System.exit(1);\n",
    "    }\n",
    "}\n",
    "\n",
    "~~~\n"
   ]
  },
  {
   "cell_type": "markdown",
   "metadata": {},
   "source": []
  }
 ],
 "metadata": {
  "language_info": {
   "name": "python"
  }
 },
 "nbformat": 4,
 "nbformat_minor": 2
}
